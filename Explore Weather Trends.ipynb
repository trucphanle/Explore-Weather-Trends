{
 "cells": [
  {
   "cell_type": "code",
   "execution_count": 14,
   "metadata": {},
   "outputs": [],
   "source": [
    "import pandas as pd"
   ]
  },
  {
   "cell_type": "code",
   "execution_count": 15,
   "metadata": {},
   "outputs": [],
   "source": [
    "df = pd.read_csv('results.csv')"
   ]
  },
  {
   "cell_type": "code",
   "execution_count": 16,
   "metadata": {
    "scrolled": true
   },
   "outputs": [
    {
     "data": {
      "text/html": [
       "<div>\n",
       "<style scoped>\n",
       "    .dataframe tbody tr th:only-of-type {\n",
       "        vertical-align: middle;\n",
       "    }\n",
       "\n",
       "    .dataframe tbody tr th {\n",
       "        vertical-align: top;\n",
       "    }\n",
       "\n",
       "    .dataframe thead th {\n",
       "        text-align: right;\n",
       "    }\n",
       "</style>\n",
       "<table border=\"1\" class=\"dataframe\">\n",
       "  <thead>\n",
       "    <tr style=\"text-align: right;\">\n",
       "      <th></th>\n",
       "      <th>year</th>\n",
       "      <th>munich_avg_temp</th>\n",
       "      <th>berlin_avg_temp</th>\n",
       "      <th>hamburg_avg_temp</th>\n",
       "      <th>global_avg_temp</th>\n",
       "    </tr>\n",
       "  </thead>\n",
       "  <tbody>\n",
       "    <tr>\n",
       "      <th>count</th>\n",
       "      <td>264.000000</td>\n",
       "      <td>264.000000</td>\n",
       "      <td>264.000000</td>\n",
       "      <td>264.000000</td>\n",
       "      <td>264.000000</td>\n",
       "    </tr>\n",
       "    <tr>\n",
       "      <th>mean</th>\n",
       "      <td>1881.500000</td>\n",
       "      <td>4.644280</td>\n",
       "      <td>8.917727</td>\n",
       "      <td>8.328902</td>\n",
       "      <td>8.359394</td>\n",
       "    </tr>\n",
       "    <tr>\n",
       "      <th>std</th>\n",
       "      <td>76.354437</td>\n",
       "      <td>0.757344</td>\n",
       "      <td>0.883601</td>\n",
       "      <td>0.845307</td>\n",
       "      <td>0.575184</td>\n",
       "    </tr>\n",
       "    <tr>\n",
       "      <th>min</th>\n",
       "      <td>1750.000000</td>\n",
       "      <td>0.530000</td>\n",
       "      <td>4.840000</td>\n",
       "      <td>4.650000</td>\n",
       "      <td>5.780000</td>\n",
       "    </tr>\n",
       "    <tr>\n",
       "      <th>25%</th>\n",
       "      <td>1815.750000</td>\n",
       "      <td>4.187500</td>\n",
       "      <td>8.357500</td>\n",
       "      <td>7.790000</td>\n",
       "      <td>8.077500</td>\n",
       "    </tr>\n",
       "    <tr>\n",
       "      <th>50%</th>\n",
       "      <td>1881.500000</td>\n",
       "      <td>4.660000</td>\n",
       "      <td>8.935000</td>\n",
       "      <td>8.320000</td>\n",
       "      <td>8.365000</td>\n",
       "    </tr>\n",
       "    <tr>\n",
       "      <th>75%</th>\n",
       "      <td>1947.250000</td>\n",
       "      <td>5.132500</td>\n",
       "      <td>9.485000</td>\n",
       "      <td>8.890000</td>\n",
       "      <td>8.700000</td>\n",
       "    </tr>\n",
       "    <tr>\n",
       "      <th>max</th>\n",
       "      <td>2013.000000</td>\n",
       "      <td>6.640000</td>\n",
       "      <td>10.960000</td>\n",
       "      <td>10.370000</td>\n",
       "      <td>9.730000</td>\n",
       "    </tr>\n",
       "  </tbody>\n",
       "</table>\n",
       "</div>"
      ],
      "text/plain": [
       "              year  munich_avg_temp  berlin_avg_temp  hamburg_avg_temp  \\\n",
       "count   264.000000       264.000000       264.000000        264.000000   \n",
       "mean   1881.500000         4.644280         8.917727          8.328902   \n",
       "std      76.354437         0.757344         0.883601          0.845307   \n",
       "min    1750.000000         0.530000         4.840000          4.650000   \n",
       "25%    1815.750000         4.187500         8.357500          7.790000   \n",
       "50%    1881.500000         4.660000         8.935000          8.320000   \n",
       "75%    1947.250000         5.132500         9.485000          8.890000   \n",
       "max    2013.000000         6.640000        10.960000         10.370000   \n",
       "\n",
       "       global_avg_temp  \n",
       "count       264.000000  \n",
       "mean          8.359394  \n",
       "std           0.575184  \n",
       "min           5.780000  \n",
       "25%           8.077500  \n",
       "50%           8.365000  \n",
       "75%           8.700000  \n",
       "max           9.730000  "
      ]
     },
     "execution_count": 16,
     "metadata": {},
     "output_type": "execute_result"
    }
   ],
   "source": [
    "df.describe()"
   ]
  },
  {
   "cell_type": "code",
   "execution_count": null,
   "metadata": {},
   "outputs": [],
   "source": []
  }
 ],
 "metadata": {
  "kernelspec": {
   "display_name": "Python 3",
   "language": "python",
   "name": "python3"
  },
  "language_info": {
   "codemirror_mode": {
    "name": "ipython",
    "version": 3
   },
   "file_extension": ".py",
   "mimetype": "text/x-python",
   "name": "python",
   "nbconvert_exporter": "python",
   "pygments_lexer": "ipython3",
   "version": "3.8.5"
  }
 },
 "nbformat": 4,
 "nbformat_minor": 4
}
